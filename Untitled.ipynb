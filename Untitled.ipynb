{
 "cells": [
  {
   "cell_type": "code",
   "execution_count": 7,
   "metadata": {},
   "outputs": [
    {
     "data": {
      "text/plain": [
       "'[{\"idUser\": 0, \"userName\": \"John Wick\"}, {\"idUser\": 1, \"userName\": \"Mike Wazowski\"}, {\"idUser\": 2, \"userName\": \"Leia Organa\"}, {\"idUser\": 3, \"userName\": \"Tony Stark\"}, {\"idUser\": 4, \"userName\": \"Ellen Ripley\"}, {\"idUser\": 5, \"userName\": \"J. Jonah Jameson\"}, {\"idUser\": 6, \"userName\": \"Danny Torrances Finger\"}, {\"idUser\": 7, \"userName\": \"Danny Torrance\"}, {\"idUser\": 8, \"userName\": \"Francesca\"}, {\"idUser\": 9, \"userName\": \"Maluma\"}, {\"idUser\": 10, \"userName\": \"Zidane\"}, {\"idUser\": 11, \"userName\": \"Ronaldo\"}, {\"idUser\": 12, \"userName\": \"Felipe\"}, {\"idUser\": 13, \"userName\": \"Maika\"}, {\"idUser\": 14, \"userName\": \"Marcos\"}, {\"idUser\": 15, \"userName\": \"Jose\"}, {\"idUser\": 16, \"userName\": \"Modric\"}]'"
      ]
     },
     "execution_count": 7,
     "metadata": {},
     "output_type": "execute_result"
    }
   ],
   "source": [
    "import requests\n",
    "response=requests.get(\"http://localhost:8080/users\")\n",
    "response.text"
   ]
  },
  {
   "cell_type": "code",
   "execution_count": 5,
   "metadata": {},
   "outputs": [
    {
     "data": {
      "text/plain": [
       "'[{\"iduser\": 3, \"username\": \"Tony Stark\"}, {\"iduser\": 2, \"username\": \"Leia Organa\"}, {\"iduser\": 4, \"username\": \"Ellen Ripley\"}, {\"iduser\": 7, \"username\": \"Danny Torrance\"}, {\"iduser\": 6, \"username\": \"Danny Torrances Finger\"}, {\"iduser\": 0, \"username\": \"John Wick\"}, {\"iduser\": 1, \"username\": \"Mike Wazowski\"}, {\"iduser\": 5, \"username\": \"J. Jonah Jameson\"}, {\"iduser\": 8, \"username\": \"Bad Bunny Baby\"}]'"
      ]
     },
     "execution_count": 5,
     "metadata": {},
     "output_type": "execute_result"
    }
   ],
   "source": [
    "import requests\n",
    "response=requests.get(\"https://apisentiment.herokuapp.com/users\")\n",
    "response.text"
   ]
  },
  {
   "cell_type": "code",
   "execution_count": 3,
   "metadata": {},
   "outputs": [
    {
     "data": {
      "text/plain": [
       "'8'"
      ]
     },
     "execution_count": 3,
     "metadata": {},
     "output_type": "execute_result"
    }
   ],
   "source": [
    "newName = {'newName': 'Bad Bunny Baby'}\n",
    "response=requests.post(\"https://apisentiment.herokuapp.com/user/create\", data=newName)\n",
    "response.text"
   ]
  },
  {
   "cell_type": "code",
   "execution_count": 4,
   "metadata": {},
   "outputs": [
    {
     "data": {
      "text/plain": [
       "'50'"
      ]
     },
     "execution_count": 4,
     "metadata": {},
     "output_type": "execute_result"
    }
   ],
   "source": [
    "import requests\n",
    "idUser = {'userid': 8, 'message':'Hello'}\n",
    "response=requests.post(\"https://apisentiment.herokuapp.com/chat/1/addmessage\", data=idUser)\n",
    "response.text"
   ]
  }
 ],
 "metadata": {
  "kernelspec": {
   "display_name": "Python 3",
   "language": "python",
   "name": "python3"
  },
  "language_info": {
   "codemirror_mode": {
    "name": "ipython",
    "version": 3
   },
   "file_extension": ".py",
   "mimetype": "text/x-python",
   "name": "python",
   "nbconvert_exporter": "python",
   "pygments_lexer": "ipython3",
   "version": "3.6.9"
  }
 },
 "nbformat": 4,
 "nbformat_minor": 2
}
